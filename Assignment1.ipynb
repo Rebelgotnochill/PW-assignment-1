{
 "cells": [
  {
   "cell_type": "markdown",
   "id": "ed81d778",
   "metadata": {},
   "source": [
    "# Q1. Create one variable containing following type of data:"
   ]
  },
  {
   "cell_type": "markdown",
   "id": "1b464de4",
   "metadata": {},
   "source": [
    "# (i) string\n",
    "# (ii) list\n",
    "# (iii) float\n",
    "# (iv) tuple"
   ]
  },
  {
   "cell_type": "code",
   "execution_count": 1,
   "id": "670a6b87",
   "metadata": {},
   "outputs": [],
   "source": [
    "a = \"it is a string\"\n",
    "b = [3, 6, 1, 4,5, True, \"it is a list\"]\n",
    "c = 6.77\n",
    "d = (3, 6, 1, 4,5, True, \"it is a tuple\")"
   ]
  },
  {
   "cell_type": "markdown",
   "id": "6e72e91c",
   "metadata": {},
   "source": [
    "# Q2. Given are some following variables containing data:"
   ]
  },
  {
   "cell_type": "code",
   "execution_count": 2,
   "id": "f25421b0",
   "metadata": {},
   "outputs": [],
   "source": [
    "var1 = 'abcd'\n",
    "var2 = '[ DS , ML , Python]'\n",
    "var3 = [ 'DS' , 'ML' , 'Python' ]\n",
    "var4 = 1.\n",
    "\n",
    "#What will be the data type of the above given variable."
   ]
  },
  {
   "cell_type": "code",
   "execution_count": 3,
   "id": "253d057f",
   "metadata": {},
   "outputs": [
    {
     "data": {
      "text/plain": [
       "str"
      ]
     },
     "execution_count": 3,
     "metadata": {},
     "output_type": "execute_result"
    }
   ],
   "source": [
    "type(var1)"
   ]
  },
  {
   "cell_type": "code",
   "execution_count": 4,
   "id": "5ac2e2c8",
   "metadata": {},
   "outputs": [
    {
     "data": {
      "text/plain": [
       "str"
      ]
     },
     "execution_count": 4,
     "metadata": {},
     "output_type": "execute_result"
    }
   ],
   "source": [
    "type(var2)"
   ]
  },
  {
   "cell_type": "code",
   "execution_count": 5,
   "id": "14c8d87c",
   "metadata": {},
   "outputs": [
    {
     "data": {
      "text/plain": [
       "list"
      ]
     },
     "execution_count": 5,
     "metadata": {},
     "output_type": "execute_result"
    }
   ],
   "source": [
    "type(var3)"
   ]
  },
  {
   "cell_type": "code",
   "execution_count": 6,
   "id": "dcd15499",
   "metadata": {},
   "outputs": [
    {
     "data": {
      "text/plain": [
       "float"
      ]
     },
     "execution_count": 6,
     "metadata": {},
     "output_type": "execute_result"
    }
   ],
   "source": [
    "type(var4)"
   ]
  },
  {
   "cell_type": "markdown",
   "id": "1a82b828",
   "metadata": {},
   "source": [
    "# Q3. Explain the use of the following operators using an example:"
   ]
  },
  {
   "cell_type": "markdown",
   "id": "6ff7c90f",
   "metadata": {},
   "source": [
    "# (i) / \n",
    "# (ii) %\n",
    "# (iii) //\n",
    "# (iv) **"
   ]
  },
  {
   "cell_type": "code",
   "execution_count": 7,
   "id": "2f8e5114",
   "metadata": {},
   "outputs": [
    {
     "data": {
      "text/plain": [
       "2.6666666666666665"
      ]
     },
     "execution_count": 7,
     "metadata": {},
     "output_type": "execute_result"
    }
   ],
   "source": [
    "# (1) It is a divison operator. it is use to divde two numbers\n",
    "\n",
    "# example\n",
    "8 / 3"
   ]
  },
  {
   "cell_type": "code",
   "execution_count": 8,
   "id": "1ee8b25e",
   "metadata": {},
   "outputs": [
    {
     "data": {
      "text/plain": [
       "2"
      ]
     },
     "execution_count": 8,
     "metadata": {},
     "output_type": "execute_result"
    }
   ],
   "source": [
    "# (ii) It is a modules operator. it is used to get the reminder of a division\n",
    "\n",
    "# example\n",
    "8 % 3"
   ]
  },
  {
   "cell_type": "code",
   "execution_count": 9,
   "id": "38cd8939",
   "metadata": {},
   "outputs": [
    {
     "data": {
      "text/plain": [
       "2"
      ]
     },
     "execution_count": 9,
     "metadata": {},
     "output_type": "execute_result"
    }
   ],
   "source": [
    "# (iii) It is a floor division operator. \n",
    "# if the divison result is an floating value. then it round down it to the nearest whole number\n",
    "\n",
    "# example\n",
    "8 // 3 "
   ]
  },
  {
   "cell_type": "code",
   "execution_count": 10,
   "id": "d81afb6b",
   "metadata": {},
   "outputs": [
    {
     "data": {
      "text/plain": [
       "512"
      ]
     },
     "execution_count": 10,
     "metadata": {},
     "output_type": "execute_result"
    }
   ],
   "source": [
    "# (iv) it is power operator. \n",
    "# it is used to multiply base value(left side value) by itself by the number of times on the power value is (right side value)\n",
    "\n",
    "# example\n",
    "8 ** 3"
   ]
  },
  {
   "cell_type": "markdown",
   "id": "40bdee82",
   "metadata": {},
   "source": [
    "# Q4. Create a list of length 10 of your choice containing multiple types of data. Using for loop print the element and its data type."
   ]
  },
  {
   "cell_type": "code",
   "execution_count": 11,
   "id": "b58e9e4f",
   "metadata": {},
   "outputs": [
    {
     "name": "stdout",
     "output_type": "stream",
     "text": [
      "1\n",
      "<class 'int'>\n",
      "2\n",
      "<class 'int'>\n",
      "2\n",
      "<class 'int'>\n",
      "4\n",
      "<class 'int'>\n",
      "five\n",
      "<class 'str'>\n",
      "six\n",
      "<class 'str'>\n",
      "7.0\n",
      "<class 'float'>\n",
      "eight\n",
      "<class 'str'>\n",
      "9.0\n",
      "<class 'float'>\n",
      "10.0\n",
      "<class 'float'>\n"
     ]
    }
   ],
   "source": [
    "l = [1, 2, 2, 4, \"five\", \"six\", 7.0, \"eight\", 9.0, 10.0]\n",
    "\n",
    "for a in l:\n",
    "    print(a)\n",
    "    print(type(a))"
   ]
  },
  {
   "cell_type": "markdown",
   "id": "511758dd",
   "metadata": {},
   "source": [
    "# Q5. Using a while loop, verify if the number A is purely divisible by number B and if so then how many times it can be divisible."
   ]
  },
  {
   "cell_type": "code",
   "execution_count": 12,
   "id": "6a00c191",
   "metadata": {},
   "outputs": [
    {
     "name": "stdout",
     "output_type": "stream",
     "text": [
      "A is divisible by B 1 times\n"
     ]
    }
   ],
   "source": [
    "A = 40\n",
    "B = 4\n",
    "\n",
    "count = 0\n",
    "while A % B == 0:\n",
    "    A /= B\n",
    "    count += 1\n",
    "\n",
    "if count == 0:\n",
    "    print(f\"A is not divisible by B\")\n",
    "else:\n",
    "    print(f\"A is divisible by B {count} times\")"
   ]
  },
  {
   "cell_type": "markdown",
   "id": "8e9f85d3",
   "metadata": {},
   "source": [
    "# Q6. Create a list containing 25 int type data. Using for loop and if-else condition print if the element is divisible by 3 or not."
   ]
  },
  {
   "cell_type": "code",
   "execution_count": 13,
   "id": "aced66c3",
   "metadata": {},
   "outputs": [
    {
     "name": "stdout",
     "output_type": "stream",
     "text": [
      "1 is not divisible 3\n",
      "2 is not divisible 3\n",
      "3 is divisible by 3\n",
      "4 is not divisible 3\n",
      "5 is not divisible 3\n",
      "6 is divisible by 3\n",
      "7 is not divisible 3\n",
      "8 is not divisible 3\n",
      "9 is divisible by 3\n",
      "10 is not divisible 3\n",
      "11 is not divisible 3\n",
      "12 is divisible by 3\n",
      "13 is not divisible 3\n",
      "14 is not divisible 3\n",
      "15 is divisible by 3\n",
      "16 is not divisible 3\n",
      "17 is not divisible 3\n",
      "18 is divisible by 3\n",
      "19 is not divisible 3\n",
      "20 is not divisible 3\n",
      "21 is divisible by 3\n",
      "22 is not divisible 3\n",
      "23 is not divisible 3\n",
      "24 is divisible by 3\n",
      "25 is not divisible 3\n"
     ]
    }
   ],
   "source": [
    "_list = [i for i in range(1, 26)]\n",
    "\n",
    "for num in _list:\n",
    "    if num % 3 == 0:\n",
    "        print(f\"{num} is divisible by 3\")\n",
    "    else:\n",
    "        print(f\"{num} is not divisible 3\")"
   ]
  },
  {
   "cell_type": "markdown",
   "id": "cbac27f5",
   "metadata": {},
   "source": [
    "# Q7. What do you understand about mutable and immutable data types? Give examples for both showing this property."
   ]
  },
  {
   "cell_type": "markdown",
   "id": "665f3b71",
   "metadata": {},
   "source": [
    "# In mutable data types we can change the value of them after they gets created. in the other hand we cannot change the value of immutable data types once they gets created."
   ]
  },
  {
   "cell_type": "code",
   "execution_count": 14,
   "id": "d2a06a80",
   "metadata": {},
   "outputs": [],
   "source": [
    "# list is an example of mutable data types\n",
    "x_list = [1,2,5,4]"
   ]
  },
  {
   "cell_type": "code",
   "execution_count": 15,
   "id": "445ed421",
   "metadata": {},
   "outputs": [],
   "source": [
    "x_list[2] = 3"
   ]
  },
  {
   "cell_type": "code",
   "execution_count": 16,
   "id": "eb99b5cd",
   "metadata": {},
   "outputs": [
    {
     "data": {
      "text/plain": [
       "[1, 2, 3, 4]"
      ]
     },
     "execution_count": 16,
     "metadata": {},
     "output_type": "execute_result"
    }
   ],
   "source": [
    "x_list"
   ]
  },
  {
   "cell_type": "code",
   "execution_count": 17,
   "id": "7dca14f9",
   "metadata": {},
   "outputs": [],
   "source": [
    "# string is an example of immutable data types\n",
    "x_string = \"kite\""
   ]
  },
  {
   "cell_type": "code",
   "execution_count": 18,
   "id": "310b8b4e",
   "metadata": {},
   "outputs": [
    {
     "ename": "TypeError",
     "evalue": "'str' object does not support item assignment",
     "output_type": "error",
     "traceback": [
      "\u001b[1;31m---------------------------------------------------------------------------\u001b[0m",
      "\u001b[1;31mTypeError\u001b[0m                                 Traceback (most recent call last)",
      "Cell \u001b[1;32mIn [18], line 1\u001b[0m\n\u001b[1;32m----> 1\u001b[0m \u001b[43mx_string\u001b[49m\u001b[43m[\u001b[49m\u001b[38;5;241;43m0\u001b[39;49m\u001b[43m]\u001b[49m \u001b[38;5;241m=\u001b[39m b \n",
      "\u001b[1;31mTypeError\u001b[0m: 'str' object does not support item assignment"
     ]
    }
   ],
   "source": [
    "x_string[0] = b "
   ]
  }
 ],
 "metadata": {
  "kernelspec": {
   "display_name": "Python 3 (ipykernel)",
   "language": "python",
   "name": "python3"
  },
  "language_info": {
   "codemirror_mode": {
    "name": "ipython",
    "version": 3
   },
   "file_extension": ".py",
   "mimetype": "text/x-python",
   "name": "python",
   "nbconvert_exporter": "python",
   "pygments_lexer": "ipython3",
   "version": "3.10.4"
  }
 },
 "nbformat": 4,
 "nbformat_minor": 5
}
